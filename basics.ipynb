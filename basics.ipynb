{
 "cells": [
  {
   "cell_type": "markdown",
   "id": "e1b1647d",
   "metadata": {},
   "source": [
    "# Simple Julia  🚀\n",
    "________"
   ]
  },
  {
   "cell_type": "markdown",
   "id": "33cb820b",
   "metadata": {},
   "source": [
    "## Table of Contents:\n",
    "* [Commenting](#Commenting)\n",
    "* [Print Statements](#Print_statements)\n",
    "* [Object Types](#Object_types)\n",
    "* [Arithmetic Operations](#Arithmetic_Operations)\n",
    "* [Strings](#Strings)\n",
    "* [Characters](#Characters)\n",
    "* [Dictionaries](#Dictionaries)\n",
    "* [Tuples](#Tuples)\n",
    "* [Arrays](#Arrays)\n",
    "* [While Loops](#While_loops)\n",
    "* [For Loops](#For_loops)\n",
    "* [Conditionals](#Conditionals)\n"
   ]
  },
  {
   "cell_type": "markdown",
   "id": "5466bec0",
   "metadata": {},
   "source": [
    "<a class=\"anchor\" id=\"Commenting\"></a>\n",
    "# Commenting"
   ]
  },
  {
   "cell_type": "code",
   "execution_count": 167,
   "id": "a4e5795a",
   "metadata": {},
   "outputs": [],
   "source": [
    "# Single line comment\n",
    "\n",
    "#= \n",
    "Multi-line\n",
    "comments\n",
    "are \n",
    "fun \n",
    "=#"
   ]
  },
  {
   "cell_type": "markdown",
   "id": "f034c460",
   "metadata": {},
   "source": [
    "<a class=\"anchor\" id=\"Print_statements\"></a>\n",
    "# Print Statements\n"
   ]
  },
  {
   "cell_type": "code",
   "execution_count": 48,
   "id": "dbe6d9fd",
   "metadata": {
    "collapsed": true
   },
   "outputs": [
    {
     "name": "stdout",
     "output_type": "stream",
     "text": [
      "A simple guide to Julia\n",
      "A simple guide to \"Julia\" \n",
      "My name is Hillary Scannell.\n",
      "I am 30 years old.\n"
     ]
    }
   ],
   "source": [
    "println(\"A simple guide to Julia\")\n",
    "println(\"\"\"A simple guide to \"Julia\" \"\"\")\n",
    "\n",
    "first_name=\"Hillary \"; last_name=\"Scannell\"\n",
    "years=10; decades=3\n",
    "\n",
    "println(\"My name is $(string(first_name,last_name)).\")\n",
    "println(\"I am $(years*decades) years old.\")\n"
   ]
  },
  {
   "cell_type": "markdown",
   "id": "67e84e68",
   "metadata": {},
   "source": [
    "<a class=\"Object types\" id=\"Object_types\"></a>\n",
    "# Object Types"
   ]
  },
  {
   "cell_type": "code",
   "execution_count": 25,
   "id": "0a6d10c5",
   "metadata": {
    "collapsed": true
   },
   "outputs": [
    {
     "name": "stdout",
     "output_type": "stream",
     "text": [
      "Char\n",
      "Int64\n",
      "Float64\n",
      "Tuple{Int64, Int64}\n",
      "Tuple{Int64, Float64}\n",
      "Tuple{Int64, Char}\n"
     ]
    }
   ],
   "source": [
    "println(typeof('a'))\n",
    "println(typeof(1))\n",
    "println(typeof(1.5))\n",
    "println(typeof((1,2)))\n",
    "println(typeof((1,2.5)))\n",
    "println(typeof((1,'a')))"
   ]
  },
  {
   "cell_type": "markdown",
   "id": "ae7b4c63",
   "metadata": {},
   "source": [
    "<a class=\"Arithmetic Operations\" id=\"Arithmetic_Operations\"></a>\n",
    "# Arithmetic Operations"
   ]
  },
  {
   "cell_type": "code",
   "execution_count": 37,
   "id": "d2043fc2",
   "metadata": {},
   "outputs": [],
   "source": [
    "sum = 1 + 2\n",
    "difference = 2 - 1\n",
    "product = 2 * 2\n",
    "quotient = 10 / 2\n",
    "power = 10 ^ 2\n",
    "modulus = 11 % 2 ; # supress output with ;"
   ]
  },
  {
   "cell_type": "markdown",
   "id": "6f41c438",
   "metadata": {},
   "source": [
    "<a class=\"Strings\" id=\"Strings\"></a>\n",
    "# Strings"
   ]
  },
  {
   "cell_type": "code",
   "execution_count": 71,
   "id": "6e9854fc",
   "metadata": {},
   "outputs": [],
   "source": [
    "# Assignment\n",
    "\n",
    "str1 = \"But I want \"\n",
    "str2 = \"\"\"more.\"\"\";"
   ]
  },
  {
   "cell_type": "code",
   "execution_count": 72,
   "id": "8320355d",
   "metadata": {
    "collapsed": true
   },
   "outputs": [
    {
     "name": "stdout",
     "output_type": "stream",
     "text": [
      "I have 12 apples.\n",
      "But I want more.\n",
      "But I want more.\n"
     ]
    }
   ],
   "source": [
    "# Concatenation\n",
    "\n",
    "println(string(\"I have \", 12, \" apples.\"))\n",
    "println(str1*str2)\n",
    "println(\"$str1$str2\")"
   ]
  },
  {
   "cell_type": "markdown",
   "id": "0f895c34",
   "metadata": {},
   "source": [
    "<a class=\"Characters\" id=\"Characters\"></a>\n",
    "# Characters"
   ]
  },
  {
   "cell_type": "code",
   "execution_count": 39,
   "id": "02d6bb75",
   "metadata": {
    "collapsed": true
   },
   "outputs": [
    {
     "data": {
      "text/plain": [
       "Char"
      ]
     },
     "execution_count": 39,
     "metadata": {},
     "output_type": "execute_result"
    }
   ],
   "source": [
    "char = 'a'\n",
    "typeof(char)"
   ]
  },
  {
   "cell_type": "markdown",
   "id": "8434a105",
   "metadata": {},
   "source": [
    "<a class=\"Dictionaries\" id=\"Dictionaries\"></a>\n",
    "# Dictionaries\n",
    "- Not ordered\n",
    "- Cannot index a dictionary\n",
    "- Mutable: can update contents after they are diclared"
   ]
  },
  {
   "cell_type": "code",
   "execution_count": 75,
   "id": "eade15ae",
   "metadata": {
    "collapsed": true
   },
   "outputs": [
    {
     "data": {
      "text/plain": [
       "Dict{String, Int64} with 3 entries:\n",
       "  \"Hillary\" => 30\n",
       "  \"Sally\"   => 22\n",
       "  \"John\"    => 40"
      ]
     },
     "execution_count": 75,
     "metadata": {},
     "output_type": "execute_result"
    }
   ],
   "source": [
    "age = Dict(\"Hillary\" => 30, \"John\" => 40, \"Sally\" => 22)"
   ]
  },
  {
   "cell_type": "code",
   "execution_count": 107,
   "id": "e22a6269",
   "metadata": {
    "collapsed": true
   },
   "outputs": [
    {
     "data": {
      "text/plain": [
       "Dict{String, Int64} with 4 entries:\n",
       "  \"Hillary\" => 30\n",
       "  \"Sally\"   => 23\n",
       "  \"Mark\"    => 29\n",
       "  \"John\"    => 40"
      ]
     },
     "execution_count": 107,
     "metadata": {},
     "output_type": "execute_result"
    }
   ],
   "source": [
    "# update and add to dictionary\n",
    "age[\"Sally\"] = 23\n",
    "age[\"Mark\"] = 29\n",
    "age"
   ]
  },
  {
   "cell_type": "code",
   "execution_count": 108,
   "id": "50a1298d",
   "metadata": {
    "collapsed": true
   },
   "outputs": [
    {
     "name": "stdout",
     "output_type": "stream",
     "text": [
      "Hillary is 30 years old.\n"
     ]
    }
   ],
   "source": [
    "println(\"Hillary is $(age[\"Hillary\"]) years old.\")"
   ]
  },
  {
   "cell_type": "code",
   "execution_count": 109,
   "id": "e180e6f5",
   "metadata": {
    "collapsed": true
   },
   "outputs": [
    {
     "data": {
      "text/plain": [
       "Dict{String, Int64} with 3 entries:\n",
       "  \"Hillary\" => 30\n",
       "  \"Sally\"   => 23\n",
       "  \"John\"    => 40"
      ]
     },
     "execution_count": 109,
     "metadata": {},
     "output_type": "execute_result"
    }
   ],
   "source": [
    "# delete a key from the dictionary\n",
    "pop!(age, \"Mark\")\n",
    "age"
   ]
  },
  {
   "cell_type": "code",
   "execution_count": 110,
   "id": "fcd89c05",
   "metadata": {
    "collapsed": true
   },
   "outputs": [
    {
     "data": {
      "text/plain": [
       "Dict{String, Int64} with 4 entries:\n",
       "  \"Hillary\" => 30\n",
       "  \"Sally\"   => 23\n",
       "  \"Mark\"    => 29\n",
       "  \"John\"    => 40"
      ]
     },
     "execution_count": 110,
     "metadata": {},
     "output_type": "execute_result"
    }
   ],
   "source": [
    "# merge two dictionaries\n",
    "merge!(age, Dict(\"Mark\" => 29))\n",
    "\n"
   ]
  },
  {
   "cell_type": "code",
   "execution_count": 112,
   "id": "e4851dc5",
   "metadata": {
    "collapsed": true
   },
   "outputs": [
    {
     "data": {
      "text/plain": [
       "23"
      ]
     },
     "execution_count": 112,
     "metadata": {},
     "output_type": "execute_result"
    }
   ],
   "source": [
    "# index into dictionary\n",
    "age[\"Sally\"]"
   ]
  },
  {
   "cell_type": "markdown",
   "id": "fddb67d5",
   "metadata": {},
   "source": [
    "<a class=\"Tuples\" id=\"Tuples\"></a>\n",
    "# Tuples\n",
    "- Ordered sequences of elements\n",
    "- Can index tuples\n",
    "- Immutable"
   ]
  },
  {
   "cell_type": "code",
   "execution_count": 113,
   "id": "3ab66308",
   "metadata": {
    "collapsed": true
   },
   "outputs": [
    {
     "data": {
      "text/plain": [
       "(\"sun\", \"clouds\", \"rain\")"
      ]
     },
     "execution_count": 113,
     "metadata": {},
     "output_type": "execute_result"
    }
   ],
   "source": [
    "forecast = (\"sun\", \"clouds\", \"rain\")"
   ]
  },
  {
   "cell_type": "code",
   "execution_count": 114,
   "id": "d37adb1a",
   "metadata": {
    "collapsed": true
   },
   "outputs": [
    {
     "data": {
      "text/plain": [
       "\"sun\""
      ]
     },
     "execution_count": 114,
     "metadata": {},
     "output_type": "execute_result"
    }
   ],
   "source": [
    "# indexing starts at 1\n",
    "forecast[1]"
   ]
  },
  {
   "cell_type": "markdown",
   "id": "0d79220a",
   "metadata": {},
   "source": [
    "<a class=\"Arrays\" id=\"Arrays\"></a>\n",
    "# Arrays\n",
    "- Ordered sequences of elements\n",
    "- Mutable"
   ]
  },
  {
   "cell_type": "code",
   "execution_count": 115,
   "id": "9df71070",
   "metadata": {
    "collapsed": true
   },
   "outputs": [
    {
     "data": {
      "text/plain": [
       "4-element Vector{String}:\n",
       " \"France\"\n",
       " \"Italy\"\n",
       " \"Australia\"\n",
       " \"Japan\""
      ]
     },
     "execution_count": 115,
     "metadata": {},
     "output_type": "execute_result"
    }
   ],
   "source": [
    "# array of strings\n",
    "countries = [\"France\", \"Italy\", \"Australia\", \"Japan\"]"
   ]
  },
  {
   "cell_type": "code",
   "execution_count": 126,
   "id": "4dc0cc5b",
   "metadata": {
    "collapsed": true
   },
   "outputs": [
    {
     "data": {
      "text/plain": [
       "6-element Vector{Int64}:\n",
       " 3\n",
       " 1\n",
       " 4\n",
       " 1\n",
       " 5\n",
       " 9"
      ]
     },
     "execution_count": 126,
     "metadata": {},
     "output_type": "execute_result"
    }
   ],
   "source": [
    "# array of integers\n",
    "pi = [3, 1, 4, 1, 5, 9]"
   ]
  },
  {
   "cell_type": "code",
   "execution_count": 138,
   "id": "a83e8fb3",
   "metadata": {
    "collapsed": true
   },
   "outputs": [
    {
     "data": {
      "text/plain": [
       "3-element Vector{Any}:\n",
       "  \"pi\"\n",
       " 3\n",
       " 3.14159"
      ]
     },
     "execution_count": 138,
     "metadata": {},
     "output_type": "execute_result"
    }
   ],
   "source": [
    "pi = [\"pi\", 3, 3.14159]"
   ]
  },
  {
   "cell_type": "code",
   "execution_count": 139,
   "id": "ea110b8b",
   "metadata": {
    "collapsed": true
   },
   "outputs": [
    {
     "data": {
      "text/plain": [
       "3-element Vector{Any}:\n",
       "  \"pi\"\n",
       " 3\n",
       " 3.14159"
      ]
     },
     "execution_count": 139,
     "metadata": {},
     "output_type": "execute_result"
    }
   ],
   "source": [
    "# Indexing arrays, starts at 1\n",
    "pi[1]\n",
    "pi"
   ]
  },
  {
   "cell_type": "code",
   "execution_count": 140,
   "id": "107750a1",
   "metadata": {
    "collapsed": true
   },
   "outputs": [
    {
     "data": {
      "text/plain": [
       "3-element Vector{Any}:\n",
       "  \"Archimedes\"\n",
       " 3\n",
       " 3.14159"
      ]
     },
     "execution_count": 140,
     "metadata": {},
     "output_type": "execute_result"
    }
   ],
   "source": [
    "# reassign elements in array\n",
    "pi[1] = \"Archimedes\"\n",
    "pi"
   ]
  },
  {
   "cell_type": "code",
   "execution_count": 141,
   "id": "e6d7fa9e",
   "metadata": {
    "collapsed": true
   },
   "outputs": [
    {
     "data": {
      "text/plain": [
       "4-element Vector{Any}:\n",
       "  \"Archimedes\"\n",
       " 3\n",
       " 3.14159\n",
       " 3.14"
      ]
     },
     "execution_count": 141,
     "metadata": {},
     "output_type": "execute_result"
    }
   ],
   "source": [
    "# add element to array\n",
    "push!(pi, 3.14)\n",
    "pi"
   ]
  },
  {
   "cell_type": "code",
   "execution_count": 142,
   "id": "2f046082",
   "metadata": {
    "collapsed": true
   },
   "outputs": [
    {
     "data": {
      "text/plain": [
       "3-element Vector{Any}:\n",
       "  \"Archimedes\"\n",
       " 3\n",
       " 3.14159"
      ]
     },
     "execution_count": 142,
     "metadata": {},
     "output_type": "execute_result"
    }
   ],
   "source": [
    "# remove element from array\n",
    "pop!(pi)\n",
    "pi"
   ]
  },
  {
   "cell_type": "markdown",
   "id": "627706ae",
   "metadata": {},
   "source": [
    "**Nd arrays**"
   ]
  },
  {
   "cell_type": "code",
   "execution_count": 144,
   "id": "f8967d4e",
   "metadata": {
    "collapsed": true
   },
   "outputs": [
    {
     "data": {
      "text/plain": [
       "1-element Vector{Vector{Vector{Any}}}:\n",
       " [[\"France\", \"Italy\", \"Australia\", \"Japan\"], [\"Archimedes\", 3, 3.14159]]"
      ]
     },
     "execution_count": 144,
     "metadata": {},
     "output_type": "execute_result"
    }
   ],
   "source": [
    "array = [[countries, pi]]"
   ]
  },
  {
   "cell_type": "code",
   "execution_count": 145,
   "id": "48512f79",
   "metadata": {
    "collapsed": true
   },
   "outputs": [
    {
     "data": {
      "text/plain": [
       "3-element Vector{Vector{Int64}}:\n",
       " [1, 2, 3]\n",
       " [4, 5]\n",
       " [6, 7, 8, 9]"
      ]
     },
     "execution_count": 145,
     "metadata": {},
     "output_type": "execute_result"
    }
   ],
   "source": [
    "# arrays can be variable length\n",
    "numbers = [[1, 2, 3], [4, 5], [6, 7, 8, 9]]"
   ]
  },
  {
   "cell_type": "code",
   "execution_count": 146,
   "id": "f2865e5c",
   "metadata": {
    "collapsed": true
   },
   "outputs": [
    {
     "data": {
      "text/plain": [
       "4×3 Matrix{Float64}:\n",
       " 0.330353  0.759646  0.709709\n",
       " 0.769819  0.428513  0.170475\n",
       " 0.250828  0.686283  0.0111661\n",
       " 0.739677  0.885282  0.606127"
      ]
     },
     "execution_count": 146,
     "metadata": {},
     "output_type": "execute_result"
    }
   ],
   "source": [
    "# create a random 2D array with numbers between 0 and 1\n",
    "rand(4, 3)"
   ]
  },
  {
   "cell_type": "code",
   "execution_count": 148,
   "id": "0f3e9658",
   "metadata": {
    "collapsed": true
   },
   "outputs": [
    {
     "data": {
      "text/plain": [
       "4×3×2 Array{Float64, 3}:\n",
       "[:, :, 1] =\n",
       " 0.584802   0.889698  0.926713\n",
       " 0.555925   0.651377  0.259384\n",
       " 0.458073   0.113136  0.742791\n",
       " 0.0769394  0.936436  0.735673\n",
       "\n",
       "[:, :, 2] =\n",
       " 0.796518  0.251318  0.00684245\n",
       " 0.612246  0.37331   0.946431\n",
       " 0.682343  0.718011  0.637061\n",
       " 0.639556  0.251649  0.305485"
      ]
     },
     "execution_count": 148,
     "metadata": {},
     "output_type": "execute_result"
    }
   ],
   "source": [
    "# create a random 3D array\n",
    "rand(4, 3, 2)"
   ]
  },
  {
   "cell_type": "markdown",
   "id": "b8a92fd3",
   "metadata": {},
   "source": [
    "<a class=\"While loops\" id=\"While_loops\"></a>\n",
    "# While loops\n",
    "\n",
    "```julia\n",
    "while *condition*\n",
    "    *loop body*\n",
    "end\n",
    "```"
   ]
  },
  {
   "cell_type": "code",
   "execution_count": 149,
   "id": "13da821f",
   "metadata": {
    "collapsed": true
   },
   "outputs": [
    {
     "name": "stdout",
     "output_type": "stream",
     "text": [
      "1\n",
      "2\n",
      "3\n",
      "4\n",
      "5\n",
      "6\n",
      "7\n",
      "8\n",
      "9\n",
      "10\n"
     ]
    }
   ],
   "source": [
    "n = 0\n",
    "while n < 10\n",
    "    n += 1\n",
    "    println(n)\n",
    "end"
   ]
  },
  {
   "cell_type": "code",
   "execution_count": 153,
   "id": "e968ac15",
   "metadata": {
    "collapsed": true
   },
   "outputs": [
    {
     "name": "stdout",
     "output_type": "stream",
     "text": [
      "France\n",
      "Italy\n",
      "Australia\n",
      "Japan\n"
     ]
    }
   ],
   "source": [
    "i = 1\n",
    "while i <= length(countries)\n",
    "    country = countries[i]\n",
    "    println(country)\n",
    "    i += 1\n",
    "end"
   ]
  },
  {
   "cell_type": "markdown",
   "id": "daee4c58",
   "metadata": {},
   "source": [
    "<a class=\"For loops\" id=\"For_loops\"></a>\n",
    "# For loops\n",
    "\n",
    "```julia\n",
    "for *var* in *loop iterable*\n",
    "    *loop body*\n",
    "end\n",
    "```"
   ]
  },
  {
   "cell_type": "code",
   "execution_count": 157,
   "id": "2e977934",
   "metadata": {
    "collapsed": true
   },
   "outputs": [
    {
     "name": "stdout",
     "output_type": "stream",
     "text": [
      "1\n",
      "2\n",
      "3\n",
      "4\n",
      "5\n",
      "6\n",
      "7\n",
      "8\n",
      "9\n",
      "10\n"
     ]
    }
   ],
   "source": [
    "for n in 1:10\n",
    "    println(n)\n",
    "end"
   ]
  },
  {
   "cell_type": "code",
   "execution_count": 159,
   "id": "e2de6a7a",
   "metadata": {
    "collapsed": true
   },
   "outputs": [
    {
     "name": "stdout",
     "output_type": "stream",
     "text": [
      "1\n",
      "2\n",
      "3\n",
      "4\n",
      "5\n",
      "6\n",
      "7\n",
      "8\n",
      "9\n",
      "10\n"
     ]
    }
   ],
   "source": [
    "for n = 1:10\n",
    "    println(n)\n",
    "end"
   ]
  },
  {
   "cell_type": "code",
   "execution_count": 160,
   "id": "e72207f5",
   "metadata": {
    "collapsed": true
   },
   "outputs": [
    {
     "name": "stdout",
     "output_type": "stream",
     "text": [
      "1\n",
      "2\n",
      "3\n",
      "4\n",
      "5\n",
      "6\n",
      "7\n",
      "8\n",
      "9\n",
      "10\n"
     ]
    }
   ],
   "source": [
    "for n ∈ 1:10\n",
    "    println(n)\n",
    "end"
   ]
  },
  {
   "cell_type": "code",
   "execution_count": 158,
   "id": "7597880d",
   "metadata": {
    "collapsed": true
   },
   "outputs": [
    {
     "name": "stdout",
     "output_type": "stream",
     "text": [
      "France\n",
      "Italy\n",
      "Australia\n",
      "Japan\n"
     ]
    }
   ],
   "source": [
    "for country in countries\n",
    "    println(country)\n",
    "end"
   ]
  },
  {
   "cell_type": "code",
   "execution_count": 162,
   "id": "4f74bc53",
   "metadata": {
    "collapsed": true
   },
   "outputs": [
    {
     "data": {
      "text/plain": [
       "5×5 Matrix{Float64}:\n",
       " 2.0  3.0  4.0  5.0   6.0\n",
       " 3.0  4.0  5.0  6.0   7.0\n",
       " 4.0  5.0  6.0  7.0   8.0\n",
       " 5.0  6.0  7.0  8.0   9.0\n",
       " 6.0  7.0  8.0  9.0  10.0"
      ]
     },
     "execution_count": 162,
     "metadata": {},
     "output_type": "execute_result"
    }
   ],
   "source": [
    "# initialize an array with zeros\n",
    "m, n = 5, 5\n",
    "A = zeros(m, n)\n",
    "\n",
    "# value of every entry is the sum of its rows and column indices\n",
    "for i in 1:m\n",
    "    for j in 1:n\n",
    "        A[i, j] = i + j\n",
    "    end\n",
    "end\n",
    "A"
   ]
  },
  {
   "cell_type": "code",
   "execution_count": 163,
   "id": "65067626",
   "metadata": {
    "collapsed": true
   },
   "outputs": [
    {
     "data": {
      "text/plain": [
       "5×5 Matrix{Float64}:\n",
       " 2.0  3.0  4.0  5.0   6.0\n",
       " 3.0  4.0  5.0  6.0   7.0\n",
       " 4.0  5.0  6.0  7.0   8.0\n",
       " 5.0  6.0  7.0  8.0   9.0\n",
       " 6.0  7.0  8.0  9.0  10.0"
      ]
     },
     "execution_count": 163,
     "metadata": {},
     "output_type": "execute_result"
    }
   ],
   "source": [
    "# Alternatively\n",
    "B = zeros(m, n)\n",
    "\n",
    "for i in 1:m, j in 1:n\n",
    "    B[i, j] = i + j\n",
    "end\n",
    "B"
   ]
  },
  {
   "cell_type": "code",
   "execution_count": 165,
   "id": "86acd1b3",
   "metadata": {
    "collapsed": true
   },
   "outputs": [
    {
     "data": {
      "text/plain": [
       "5×5 Matrix{Int64}:\n",
       " 2  3  4  5   6\n",
       " 3  4  5  6   7\n",
       " 4  5  6  7   8\n",
       " 5  6  7  8   9\n",
       " 6  7  8  9  10"
      ]
     },
     "execution_count": 165,
     "metadata": {},
     "output_type": "execute_result"
    }
   ],
   "source": [
    "# Array comprehension\n",
    "# Don't need to initialize C\n",
    "C = [i + j for i in 1:m, j in 1:n]"
   ]
  },
  {
   "cell_type": "code",
   "execution_count": 166,
   "id": "cdd9dc0f",
   "metadata": {
    "collapsed": true
   },
   "outputs": [
    {
     "data": {
      "text/plain": [
       "1×1 Matrix{Int64}:\n",
       " 2"
      ]
     },
     "metadata": {},
     "output_type": "display_data"
    },
    {
     "data": {
      "text/plain": [
       "2×2 Matrix{Int64}:\n",
       " 2  3\n",
       " 3  4"
      ]
     },
     "metadata": {},
     "output_type": "display_data"
    },
    {
     "data": {
      "text/plain": [
       "3×3 Matrix{Int64}:\n",
       " 2  3  4\n",
       " 3  4  5\n",
       " 4  5  6"
      ]
     },
     "metadata": {},
     "output_type": "display_data"
    },
    {
     "data": {
      "text/plain": [
       "4×4 Matrix{Int64}:\n",
       " 2  3  4  5\n",
       " 3  4  5  6\n",
       " 4  5  6  7\n",
       " 5  6  7  8"
      ]
     },
     "metadata": {},
     "output_type": "display_data"
    },
    {
     "data": {
      "text/plain": [
       "5×5 Matrix{Int64}:\n",
       " 2  3  4  5   6\n",
       " 3  4  5  6   7\n",
       " 4  5  6  7   8\n",
       " 5  6  7  8   9\n",
       " 6  7  8  9  10"
      ]
     },
     "metadata": {},
     "output_type": "display_data"
    },
    {
     "data": {
      "text/plain": [
       "6×6 Matrix{Int64}:\n",
       " 2  3  4   5   6   7\n",
       " 3  4  5   6   7   8\n",
       " 4  5  6   7   8   9\n",
       " 5  6  7   8   9  10\n",
       " 6  7  8   9  10  11\n",
       " 7  8  9  10  11  12"
      ]
     },
     "metadata": {},
     "output_type": "display_data"
    },
    {
     "data": {
      "text/plain": [
       "7×7 Matrix{Int64}:\n",
       " 2  3   4   5   6   7   8\n",
       " 3  4   5   6   7   8   9\n",
       " 4  5   6   7   8   9  10\n",
       " 5  6   7   8   9  10  11\n",
       " 6  7   8   9  10  11  12\n",
       " 7  8   9  10  11  12  13\n",
       " 8  9  10  11  12  13  14"
      ]
     },
     "metadata": {},
     "output_type": "display_data"
    },
    {
     "data": {
      "text/plain": [
       "8×8 Matrix{Int64}:\n",
       " 2   3   4   5   6   7   8   9\n",
       " 3   4   5   6   7   8   9  10\n",
       " 4   5   6   7   8   9  10  11\n",
       " 5   6   7   8   9  10  11  12\n",
       " 6   7   8   9  10  11  12  13\n",
       " 7   8   9  10  11  12  13  14\n",
       " 8   9  10  11  12  13  14  15\n",
       " 9  10  11  12  13  14  15  16"
      ]
     },
     "metadata": {},
     "output_type": "display_data"
    },
    {
     "data": {
      "text/plain": [
       "9×9 Matrix{Int64}:\n",
       "  2   3   4   5   6   7   8   9  10\n",
       "  3   4   5   6   7   8   9  10  11\n",
       "  4   5   6   7   8   9  10  11  12\n",
       "  5   6   7   8   9  10  11  12  13\n",
       "  6   7   8   9  10  11  12  13  14\n",
       "  7   8   9  10  11  12  13  14  15\n",
       "  8   9  10  11  12  13  14  15  16\n",
       "  9  10  11  12  13  14  15  16  17\n",
       " 10  11  12  13  14  15  16  17  18"
      ]
     },
     "metadata": {},
     "output_type": "display_data"
    },
    {
     "data": {
      "text/plain": [
       "10×10 Matrix{Int64}:\n",
       "  2   3   4   5   6   7   8   9  10  11\n",
       "  3   4   5   6   7   8   9  10  11  12\n",
       "  4   5   6   7   8   9  10  11  12  13\n",
       "  5   6   7   8   9  10  11  12  13  14\n",
       "  6   7   8   9  10  11  12  13  14  15\n",
       "  7   8   9  10  11  12  13  14  15  16\n",
       "  8   9  10  11  12  13  14  15  16  17\n",
       "  9  10  11  12  13  14  15  16  17  18\n",
       " 10  11  12  13  14  15  16  17  18  19\n",
       " 11  12  13  14  15  16  17  18  19  20"
      ]
     },
     "metadata": {},
     "output_type": "display_data"
    }
   ],
   "source": [
    "# Watch the tables grow in size\n",
    "for n in 1:10\n",
    "    A = [i + j for i in 1:n, j in 1:n]\n",
    "    display(A)\n",
    "end"
   ]
  },
  {
   "cell_type": "markdown",
   "id": "e12968a7",
   "metadata": {},
   "source": [
    "<a class=\"Conditionals\" id=\"Conditionals\"></a>\n",
    "# Conditionals\n",
    "\n",
    "```julia\n",
    "if *condition 1*\n",
    "    *option 1*\n",
    "elseif *condition 2*\n",
    "    *option 2*\n",
    "else\n",
    "    *option 3*\n",
    "end\n",
    "```"
   ]
  },
  {
   "cell_type": "code",
   "execution_count": null,
   "id": "cf2432cd",
   "metadata": {},
   "outputs": [],
   "source": []
  }
 ],
 "metadata": {
  "kernelspec": {
   "display_name": "Julia 1.6.2",
   "language": "julia",
   "name": "julia-1.6"
  },
  "language_info": {
   "file_extension": ".jl",
   "mimetype": "application/julia",
   "name": "julia",
   "version": "1.6.2"
  }
 },
 "nbformat": 4,
 "nbformat_minor": 5
}
